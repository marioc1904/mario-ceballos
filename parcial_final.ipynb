{
  "nbformat": 4,
  "nbformat_minor": 0,
  "metadata": {
    "colab": {
      "name": "parcial final",
      "provenance": [],
      "collapsed_sections": [],
      "authorship_tag": "ABX9TyMwSGYzLq3VsZ5qhMjTsc1U",
      "include_colab_link": true
    },
    "kernelspec": {
      "name": "python3",
      "display_name": "Python 3"
    }
  },
  "cells": [
    {
      "cell_type": "markdown",
      "metadata": {
        "id": "view-in-github",
        "colab_type": "text"
      },
      "source": [
        "<a href=\"https://colab.research.google.com/github/marioc1904/mario-ceballos/blob/master/parcial_final.ipynb\" target=\"_parent\"><img src=\"https://colab.research.google.com/assets/colab-badge.svg\" alt=\"Open In Colab\"/></a>"
      ]
    },
    {
      "cell_type": "markdown",
      "metadata": {
        "id": "nTS7JF9mVnbA"
      },
      "source": [
        "#punto 1"
      ]
    },
    {
      "cell_type": "code",
      "metadata": {
        "id": "Tn-bJEihVW3H"
      },
      "source": [
        "def validateFloat(mensaje):\n",
        "  variable = None \n",
        "  while (variable == None):\n",
        "    try:\n",
        "      variable = float (input(mensaje))\n",
        "    except ValueError: \n",
        "      print ('Ingrese de nuevo los valores')\n",
        "  return variable \n",
        "\n",
        "def conversion (pesos, dolar): \n",
        "  return pesos/dolar \n"
      ],
      "execution_count": 1,
      "outputs": []
    },
    {
      "cell_type": "code",
      "metadata": {
        "colab": {
          "base_uri": "https://localhost:8080/"
        },
        "id": "6WphPV1KWjs_",
        "outputId": "365fe6bd-537c-4f73-dba1-d03c27e2d420"
      },
      "source": [
        "pesos = validateFloat ('Ingrese pesos :')\n",
        "dolar = 3.800\n",
        "\n",
        "conversion (pesos, dolar)\n"
      ],
      "execution_count": 2,
      "outputs": [
        {
          "output_type": "stream",
          "text": [
            "Ingrese pesos :15.000\n"
          ],
          "name": "stdout"
        },
        {
          "output_type": "execute_result",
          "data": {
            "text/plain": [
              "3.947368421052632"
            ]
          },
          "metadata": {
            "tags": []
          },
          "execution_count": 2
        }
      ]
    },
    {
      "cell_type": "markdown",
      "metadata": {
        "id": "X_14iXsiXQxg"
      },
      "source": [
        "#punto 2"
      ]
    },
    {
      "cell_type": "code",
      "metadata": {
        "colab": {
          "base_uri": "https://localhost:8080/"
        },
        "id": "qALhvlJjXTHa",
        "outputId": "0b566e16-f56b-41d0-c849-421b9031a616"
      },
      "source": [
        "parrafo = input('Ingrese un parrafo plox : ')\n",
        "\n",
        "print (parrafo.endswith('.'))\n",
        "print (parrafo.count('a'))\n",
        "print (parrafo.count('hoy'))\n",
        "parrafolista = parrafo.split(' ')\n",
        "print (parrafo )\n",
        "print (max(parrafolista , key=len))\n",
        "print (min(parrafolista , key=len))\n",
        "print (parrafo.upper())\n",
        "print (parrafo.casefold())"
      ],
      "execution_count": 4,
      "outputs": [
        {
          "output_type": "stream",
          "text": [
            "Ingrese un parrafo plox : Hoy es un dia muy especial, hoy acabo mi ultimo parcial de programación para terminar el semestre y avanzar en mi carrera universitaria/profesional.\n",
            "True\n",
            "19\n",
            "1\n",
            "Hoy es un dia muy especial, hoy acabo mi ultimo parcial de programación para terminar el semestre y avanzar en mi carrera universitaria/profesional.\n",
            "universitaria/profesional.\n",
            "y\n",
            "HOY ES UN DIA MUY ESPECIAL, HOY ACABO MI ULTIMO PARCIAL DE PROGRAMACIÓN PARA TERMINAR EL SEMESTRE Y AVANZAR EN MI CARRERA UNIVERSITARIA/PROFESIONAL.\n",
            "hoy es un dia muy especial, hoy acabo mi ultimo parcial de programación para terminar el semestre y avanzar en mi carrera universitaria/profesional.\n"
          ],
          "name": "stdout"
        }
      ]
    },
    {
      "cell_type": "markdown",
      "metadata": {
        "id": "eOJ2bCY7YvOB"
      },
      "source": [
        "#punto 3"
      ]
    },
    {
      "cell_type": "code",
      "metadata": {
        "colab": {
          "base_uri": "https://localhost:8080/",
          "height": 295
        },
        "id": "4eY1cjFxYugM",
        "outputId": "998d4012-a080-4631-99e3-d7403554bd8e"
      },
      "source": [
        "import matplotlib.pyplot as plt\n",
        "meses = ['Enero', 'Febrero', 'Marzo', 'Abril', 'Mayo', 'Junio', 'Julio', 'Agosto','Septiembre', 'Octubre', 'Noviembre', 'Diciembre']\n",
        "ingresos = [2000000, 5000000, 3500000, 4300000, 2700000, 2200000, 4800000, 5300000, 2600000, 4500000, 5600000, 5100000]\n",
        "plt.bar(meses, ingresos)\n",
        "plt.title ('ingresos mensuales')\n",
        "plt.xlabel ('mes a mes')\n",
        "plt.ylabel ('ingresos mensuales')\n",
        "plt.savefig('Graficoingresosmensuales.png')\n",
        "plt.show()"
      ],
      "execution_count": 9,
      "outputs": [
        {
          "output_type": "display_data",
          "data": {
            "image/png": "[encoded data removed]",
            "text/plain": [
              "<Figure size 432x288 with 1 Axes>"
            ]
          },
          "metadata": {
            "tags": [],
            "needs_background": "light"
          }
        }
      ]
    },
    {
      "cell_type": "markdown",
      "metadata": {
        "id": "sbWuXeWgZReX"
      },
      "source": [
        "#punto 4 "
      ]
    },
    {
      "cell_type": "code",
      "metadata": {
        "colab": {
          "base_uri": "https://localhost:8080/",
          "height": 264
        },
        "id": "34ld0EguZT2c",
        "outputId": "abb80691-52d3-43a0-ecc8-76d6bc751dd6"
      },
      "source": [
        "import matplotlib.pyplot as plt \n",
        "ciudades = ['Medellin', 'Bogota', 'Cali', 'Cartagena', 'Barranquilla']\n",
        "size = [15, 50, 15, 10, 10 ]\n",
        "explodelist = [0, 0.10, 0, 0, 0]\n",
        "plt.title('Ciudades mas grandes de Colombia')\n",
        "plt.pie(size, labels=ciudades, explode=explodelist)\n",
        "plt.show()\n"
      ],
      "execution_count": 6,
      "outputs": [
        {
          "output_type": "display_data",
          "data": {
            "image/png": "[encoded data removed]",
            "text/plain": [
              "<Figure size 432x288 with 1 Axes>"
            ]
          },
          "metadata": {
            "tags": []
          }
        }
      ]
    },
    {
      "cell_type": "markdown",
      "metadata": {
        "id": "-3aesObobBj2"
      },
      "source": [
        "#punto 4"
      ]
    },
    {
      "cell_type": "code",
      "metadata": {
        "colab": {
          "base_uri": "https://localhost:8080/",
          "height": 248
        },
        "id": "fn-sTHyrbDEe",
        "outputId": "85007ec5-b53f-40da-e7e1-c4af3b2e4531"
      },
      "source": [
        "import pandas as pd\n",
        "ecg = pd.read_csv('ecg(1).csv', encoding='UTF-8', header=0, delimeter=';').to_dict()\n",
        "ecg.keys()\n",
        "x = list (ecg['muestra'].values())\n",
        "y = list (ecg['valor'].values())\n",
        "\n",
        "import matplotlib.pyplot as plt\n",
        "plt.plot(x,y)\n",
        "plt.title('Graficando un ECG')\n",
        "plt.xlabel('Tiempo(ms)')\n",
        "plt.ylabel ('Voltaje (uV)')\n",
        "plt.savefig('ecg.png')\n",
        "plt.show()\n"
      ],
      "execution_count": 7,
      "outputs": [
        {
          "output_type": "error",
          "ename": "TypeError",
          "evalue": "ignored",
          "traceback": [
            "\u001b[0;31m---------------------------------------------------------------------------\u001b[0m",
            "\u001b[0;31mTypeError\u001b[0m                                 Traceback (most recent call last)",
            "\u001b[0;32m<ipython-input-7-83713a7f1b28>\u001b[0m in \u001b[0;36m<module>\u001b[0;34m()\u001b[0m\n\u001b[1;32m      1\u001b[0m \u001b[0;32mimport\u001b[0m \u001b[0mpandas\u001b[0m \u001b[0;32mas\u001b[0m \u001b[0mpd\u001b[0m\u001b[0;34m\u001b[0m\u001b[0;34m\u001b[0m\u001b[0m\n\u001b[0;32m----> 2\u001b[0;31m \u001b[0mecg\u001b[0m \u001b[0;34m=\u001b[0m \u001b[0mpd\u001b[0m\u001b[0;34m.\u001b[0m\u001b[0mread_csv\u001b[0m\u001b[0;34m(\u001b[0m\u001b[0;34m'ecg(1).csv'\u001b[0m\u001b[0;34m,\u001b[0m \u001b[0mencoding\u001b[0m\u001b[0;34m=\u001b[0m\u001b[0;34m'UTF-8'\u001b[0m\u001b[0;34m,\u001b[0m \u001b[0mheader\u001b[0m\u001b[0;34m=\u001b[0m\u001b[0;36m0\u001b[0m\u001b[0;34m,\u001b[0m \u001b[0mdelimeter\u001b[0m\u001b[0;34m=\u001b[0m\u001b[0;34m';'\u001b[0m\u001b[0;34m)\u001b[0m\u001b[0;34m.\u001b[0m\u001b[0mto_dict\u001b[0m\u001b[0;34m(\u001b[0m\u001b[0;34m)\u001b[0m\u001b[0;34m\u001b[0m\u001b[0;34m\u001b[0m\u001b[0m\n\u001b[0m\u001b[1;32m      3\u001b[0m \u001b[0mecg\u001b[0m\u001b[0;34m.\u001b[0m\u001b[0mkeys\u001b[0m\u001b[0;34m(\u001b[0m\u001b[0;34m)\u001b[0m\u001b[0;34m\u001b[0m\u001b[0;34m\u001b[0m\u001b[0m\n\u001b[1;32m      4\u001b[0m \u001b[0mx\u001b[0m \u001b[0;34m=\u001b[0m \u001b[0mlist\u001b[0m \u001b[0;34m(\u001b[0m\u001b[0mecg\u001b[0m\u001b[0;34m[\u001b[0m\u001b[0;34m'muestra'\u001b[0m\u001b[0;34m]\u001b[0m\u001b[0;34m.\u001b[0m\u001b[0mvalues\u001b[0m\u001b[0;34m(\u001b[0m\u001b[0;34m)\u001b[0m\u001b[0;34m)\u001b[0m\u001b[0;34m\u001b[0m\u001b[0;34m\u001b[0m\u001b[0m\n\u001b[1;32m      5\u001b[0m \u001b[0my\u001b[0m \u001b[0;34m=\u001b[0m \u001b[0mlist\u001b[0m \u001b[0;34m(\u001b[0m\u001b[0mecg\u001b[0m\u001b[0;34m[\u001b[0m\u001b[0;34m'valor'\u001b[0m\u001b[0;34m]\u001b[0m\u001b[0;34m.\u001b[0m\u001b[0mvalues\u001b[0m\u001b[0;34m(\u001b[0m\u001b[0;34m)\u001b[0m\u001b[0;34m)\u001b[0m\u001b[0;34m\u001b[0m\u001b[0;34m\u001b[0m\u001b[0m\n",
            "\u001b[0;31mTypeError\u001b[0m: read_csv() got an unexpected keyword argument 'delimeter'"
          ]
        }
      ]
    }
  ]
}